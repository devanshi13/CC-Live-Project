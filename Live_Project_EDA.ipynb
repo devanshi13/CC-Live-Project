{
 "cells": [
  {
   "cell_type": "code",
   "execution_count": 1,
   "metadata": {
    "colab": {
     "base_uri": "https://localhost:8080/",
     "height": 71
    },
    "colab_type": "code",
    "id": "6P872GY6oCpG",
    "outputId": "0a1bd4f1-ad33-49bd-9a1e-e99c50559fda"
   },
   "outputs": [],
   "source": [
    "import pandas as pd\n",
    "import numpy as np\n",
    "import seaborn as sns\n",
    "import matplotlib.pyplot as plt"
   ]
  },
  {
   "cell_type": "code",
   "execution_count": 2,
   "metadata": {
    "colab": {
     "base_uri": "https://localhost:8080/",
     "height": 581
    },
    "colab_type": "code",
    "id": "mUuwkDb2oS4i",
    "outputId": "7677e56a-f5c7-4aa8-d42e-0e4566a60345"
   },
   "outputs": [
    {
     "data": {
      "text/html": [
       "<div>\n",
       "<style scoped>\n",
       "    .dataframe tbody tr th:only-of-type {\n",
       "        vertical-align: middle;\n",
       "    }\n",
       "\n",
       "    .dataframe tbody tr th {\n",
       "        vertical-align: top;\n",
       "    }\n",
       "\n",
       "    .dataframe thead th {\n",
       "        text-align: right;\n",
       "    }\n",
       "</style>\n",
       "<table border=\"1\" class=\"dataframe\">\n",
       "  <thead>\n",
       "    <tr style=\"text-align: right;\">\n",
       "      <th></th>\n",
       "      <th>First Name</th>\n",
       "      <th>Last Name</th>\n",
       "      <th>City</th>\n",
       "      <th>State</th>\n",
       "      <th>Zip Code</th>\n",
       "      <th>DOB [DD/MM/YYYY]</th>\n",
       "      <th>Age</th>\n",
       "      <th>Gender</th>\n",
       "      <th>Email Address</th>\n",
       "      <th>Contact Number</th>\n",
       "      <th>...</th>\n",
       "      <th>Programming Language Known other than Java (one major)</th>\n",
       "      <th>Have you worked on MySQL or Oracle database</th>\n",
       "      <th>Have you studied OOP Concepts</th>\n",
       "      <th>Certifications/Achievement/ Research papers</th>\n",
       "      <th>Rate your written communication skills [1-10]</th>\n",
       "      <th>Rate your verbal communication skills [1-10]</th>\n",
       "      <th>Link to updated Resume (Google/ One Drive link preferred)</th>\n",
       "      <th>link to Linkedin profile</th>\n",
       "      <th>How Did You Hear About This Internship?</th>\n",
       "      <th>Label</th>\n",
       "    </tr>\n",
       "  </thead>\n",
       "  <tbody>\n",
       "    <tr>\n",
       "      <th>0</th>\n",
       "      <td>Barron</td>\n",
       "      <td>Harnes</td>\n",
       "      <td>Kolhapur</td>\n",
       "      <td>Maharashtra</td>\n",
       "      <td>416004</td>\n",
       "      <td>24/09/2000</td>\n",
       "      <td>19</td>\n",
       "      <td>Male</td>\n",
       "      <td>bharnes0@harvard.edu</td>\n",
       "      <td>6345186600</td>\n",
       "      <td>...</td>\n",
       "      <td>HTML/CSS</td>\n",
       "      <td>Yes</td>\n",
       "      <td>No</td>\n",
       "      <td>NaN</td>\n",
       "      <td>6</td>\n",
       "      <td>10</td>\n",
       "      <td>NaN</td>\n",
       "      <td>NaN</td>\n",
       "      <td>Twitter</td>\n",
       "      <td>ineligible</td>\n",
       "    </tr>\n",
       "    <tr>\n",
       "      <th>1</th>\n",
       "      <td>Velma</td>\n",
       "      <td>Allone</td>\n",
       "      <td>Pune</td>\n",
       "      <td>Maharashtra</td>\n",
       "      <td>411011</td>\n",
       "      <td>23/10/1997</td>\n",
       "      <td>22</td>\n",
       "      <td>Female</td>\n",
       "      <td>vallone1@i2i.jp</td>\n",
       "      <td>2808753102</td>\n",
       "      <td>...</td>\n",
       "      <td>PHP</td>\n",
       "      <td>No</td>\n",
       "      <td>Yes</td>\n",
       "      <td>NaN</td>\n",
       "      <td>10</td>\n",
       "      <td>7</td>\n",
       "      <td>NaN</td>\n",
       "      <td>NaN</td>\n",
       "      <td>Ex/Current Employee</td>\n",
       "      <td>eligible</td>\n",
       "    </tr>\n",
       "    <tr>\n",
       "      <th>2</th>\n",
       "      <td>Thibaut</td>\n",
       "      <td>Scotland</td>\n",
       "      <td>Mumbai</td>\n",
       "      <td>Maharashtra</td>\n",
       "      <td>400059</td>\n",
       "      <td>6/2/1996</td>\n",
       "      <td>24</td>\n",
       "      <td>Male</td>\n",
       "      <td>tscotland2@opensource.org</td>\n",
       "      <td>2945231918</td>\n",
       "      <td>...</td>\n",
       "      <td>C</td>\n",
       "      <td>No</td>\n",
       "      <td>No</td>\n",
       "      <td>NaN</td>\n",
       "      <td>8</td>\n",
       "      <td>6</td>\n",
       "      <td>NaN</td>\n",
       "      <td>NaN</td>\n",
       "      <td>Twitter</td>\n",
       "      <td>ineligible</td>\n",
       "    </tr>\n",
       "    <tr>\n",
       "      <th>3</th>\n",
       "      <td>Retha</td>\n",
       "      <td>Proud</td>\n",
       "      <td>Solapur</td>\n",
       "      <td>Maharashtra</td>\n",
       "      <td>413224</td>\n",
       "      <td>26/12/1999</td>\n",
       "      <td>20</td>\n",
       "      <td>Female</td>\n",
       "      <td>rproud3@flavors.me</td>\n",
       "      <td>7507196200</td>\n",
       "      <td>...</td>\n",
       "      <td>PHP</td>\n",
       "      <td>No</td>\n",
       "      <td>Yes</td>\n",
       "      <td>NaN</td>\n",
       "      <td>9</td>\n",
       "      <td>6</td>\n",
       "      <td>NaN</td>\n",
       "      <td>NaN</td>\n",
       "      <td>Twitter</td>\n",
       "      <td>ineligible</td>\n",
       "    </tr>\n",
       "    <tr>\n",
       "      <th>4</th>\n",
       "      <td>Del</td>\n",
       "      <td>Pearse</td>\n",
       "      <td>Sangli</td>\n",
       "      <td>Maharashtra</td>\n",
       "      <td>416436</td>\n",
       "      <td>21/09/1996</td>\n",
       "      <td>23</td>\n",
       "      <td>Female</td>\n",
       "      <td>dpearse4@sakura.ne.jp</td>\n",
       "      <td>6643884281</td>\n",
       "      <td>...</td>\n",
       "      <td>Python</td>\n",
       "      <td>No</td>\n",
       "      <td>Yes</td>\n",
       "      <td>NaN</td>\n",
       "      <td>8</td>\n",
       "      <td>6</td>\n",
       "      <td>NaN</td>\n",
       "      <td>NaN</td>\n",
       "      <td>Facebook</td>\n",
       "      <td>ineligible</td>\n",
       "    </tr>\n",
       "  </tbody>\n",
       "</table>\n",
       "<p>5 rows × 32 columns</p>\n",
       "</div>"
      ],
      "text/plain": [
       "  First Name Last Name      City        State  Zip Code DOB [DD/MM/YYYY]  Age  \\\n",
       "0     Barron    Harnes  Kolhapur  Maharashtra    416004       24/09/2000   19   \n",
       "1      Velma    Allone      Pune  Maharashtra    411011       23/10/1997   22   \n",
       "2    Thibaut  Scotland    Mumbai  Maharashtra    400059         6/2/1996   24   \n",
       "3      Retha     Proud   Solapur  Maharashtra    413224       26/12/1999   20   \n",
       "4        Del    Pearse    Sangli  Maharashtra    416436       21/09/1996   23   \n",
       "\n",
       "   Gender              Email Address  Contact Number  ...  \\\n",
       "0    Male       bharnes0@harvard.edu      6345186600  ...   \n",
       "1  Female            vallone1@i2i.jp      2808753102  ...   \n",
       "2    Male  tscotland2@opensource.org      2945231918  ...   \n",
       "3  Female         rproud3@flavors.me      7507196200  ...   \n",
       "4  Female      dpearse4@sakura.ne.jp      6643884281  ...   \n",
       "\n",
       "   Programming Language Known other than Java (one major)  \\\n",
       "0                                           HTML/CSS        \n",
       "1                                                PHP        \n",
       "2                                                  C        \n",
       "3                                                PHP        \n",
       "4                                             Python        \n",
       "\n",
       "  Have you worked on MySQL or Oracle database Have you studied OOP Concepts  \\\n",
       "0                                         Yes                            No   \n",
       "1                                          No                           Yes   \n",
       "2                                          No                            No   \n",
       "3                                          No                           Yes   \n",
       "4                                          No                           Yes   \n",
       "\n",
       "  Certifications/Achievement/ Research papers  \\\n",
       "0                                         NaN   \n",
       "1                                         NaN   \n",
       "2                                         NaN   \n",
       "3                                         NaN   \n",
       "4                                         NaN   \n",
       "\n",
       "  Rate your written communication skills [1-10]  \\\n",
       "0                                             6   \n",
       "1                                            10   \n",
       "2                                             8   \n",
       "3                                             9   \n",
       "4                                             8   \n",
       "\n",
       "  Rate your verbal communication skills [1-10]  \\\n",
       "0                                           10   \n",
       "1                                            7   \n",
       "2                                            6   \n",
       "3                                            6   \n",
       "4                                            6   \n",
       "\n",
       "  Link to updated Resume (Google/ One Drive link preferred)  \\\n",
       "0                                                NaN          \n",
       "1                                                NaN          \n",
       "2                                                NaN          \n",
       "3                                                NaN          \n",
       "4                                                NaN          \n",
       "\n",
       "   link to Linkedin profile  How Did You Hear About This Internship?  \\\n",
       "0                       NaN                                  Twitter   \n",
       "1                       NaN                      Ex/Current Employee   \n",
       "2                       NaN                                  Twitter   \n",
       "3                       NaN                                  Twitter   \n",
       "4                       NaN                                 Facebook   \n",
       "\n",
       "        Label  \n",
       "0  ineligible  \n",
       "1    eligible  \n",
       "2  ineligible  \n",
       "3  ineligible  \n",
       "4  ineligible  \n",
       "\n",
       "[5 rows x 32 columns]"
      ]
     },
     "execution_count": 2,
     "metadata": {},
     "output_type": "execute_result"
    }
   ],
   "source": [
    "dataset = pd.read_csv('dataset.csv')\n",
    "dataset.head()"
   ]
  },
  {
   "cell_type": "code",
   "execution_count": 3,
   "metadata": {
    "colab": {
     "base_uri": "https://localhost:8080/",
     "height": 419
    },
    "colab_type": "code",
    "id": "EEgdSxEPoc1v",
    "outputId": "143e5ca6-c8ad-4f3b-cc68-fb56309dfe9c"
   },
   "outputs": [
    {
     "data": {
      "text/html": [
       "<div>\n",
       "<style scoped>\n",
       "    .dataframe tbody tr th:only-of-type {\n",
       "        vertical-align: middle;\n",
       "    }\n",
       "\n",
       "    .dataframe tbody tr th {\n",
       "        vertical-align: top;\n",
       "    }\n",
       "\n",
       "    .dataframe thead th {\n",
       "        text-align: right;\n",
       "    }\n",
       "</style>\n",
       "<table border=\"1\" class=\"dataframe\">\n",
       "  <thead>\n",
       "    <tr style=\"text-align: right;\">\n",
       "      <th></th>\n",
       "      <th>Zip Code</th>\n",
       "      <th>Age</th>\n",
       "      <th>Contact Number</th>\n",
       "      <th>Emergency Contact Number</th>\n",
       "      <th>CGPA/ percentage</th>\n",
       "      <th>Expected Graduation-year</th>\n",
       "      <th>Certifications/Achievement/ Research papers</th>\n",
       "      <th>Rate your written communication skills [1-10]</th>\n",
       "      <th>Rate your verbal communication skills [1-10]</th>\n",
       "      <th>Link to updated Resume (Google/ One Drive link preferred)</th>\n",
       "      <th>link to Linkedin profile</th>\n",
       "    </tr>\n",
       "  </thead>\n",
       "  <tbody>\n",
       "    <tr>\n",
       "      <th>count</th>\n",
       "      <td>10000.000000</td>\n",
       "      <td>10000.000000</td>\n",
       "      <td>1.000000e+04</td>\n",
       "      <td>1.000000e+04</td>\n",
       "      <td>10000.000000</td>\n",
       "      <td>10000.000000</td>\n",
       "      <td>0.0</td>\n",
       "      <td>10000.000000</td>\n",
       "      <td>10000.000000</td>\n",
       "      <td>0.0</td>\n",
       "      <td>0.0</td>\n",
       "    </tr>\n",
       "    <tr>\n",
       "      <th>mean</th>\n",
       "      <td>410087.514700</td>\n",
       "      <td>21.384700</td>\n",
       "      <td>5.521004e+09</td>\n",
       "      <td>5.569675e+09</td>\n",
       "      <td>8.500260</td>\n",
       "      <td>2021.509300</td>\n",
       "      <td>NaN</td>\n",
       "      <td>7.988400</td>\n",
       "      <td>7.995500</td>\n",
       "      <td>NaN</td>\n",
       "      <td>NaN</td>\n",
       "    </tr>\n",
       "    <tr>\n",
       "      <th>std</th>\n",
       "      <td>6408.897346</td>\n",
       "      <td>1.489674</td>\n",
       "      <td>2.622215e+09</td>\n",
       "      <td>2.581596e+09</td>\n",
       "      <td>0.860161</td>\n",
       "      <td>1.116888</td>\n",
       "      <td>NaN</td>\n",
       "      <td>1.413529</td>\n",
       "      <td>1.419113</td>\n",
       "      <td>NaN</td>\n",
       "      <td>NaN</td>\n",
       "    </tr>\n",
       "    <tr>\n",
       "      <th>min</th>\n",
       "      <td>400012.000000</td>\n",
       "      <td>19.000000</td>\n",
       "      <td>6.402026e+06</td>\n",
       "      <td>1.001359e+09</td>\n",
       "      <td>7.000000</td>\n",
       "      <td>2020.000000</td>\n",
       "      <td>NaN</td>\n",
       "      <td>6.000000</td>\n",
       "      <td>6.000000</td>\n",
       "      <td>NaN</td>\n",
       "      <td>NaN</td>\n",
       "    </tr>\n",
       "    <tr>\n",
       "      <th>25%</th>\n",
       "      <td>400701.000000</td>\n",
       "      <td>20.000000</td>\n",
       "      <td>3.191651e+09</td>\n",
       "      <td>3.353914e+09</td>\n",
       "      <td>7.750000</td>\n",
       "      <td>2021.000000</td>\n",
       "      <td>NaN</td>\n",
       "      <td>7.000000</td>\n",
       "      <td>7.000000</td>\n",
       "      <td>NaN</td>\n",
       "      <td>NaN</td>\n",
       "    </tr>\n",
       "    <tr>\n",
       "      <th>50%</th>\n",
       "      <td>413001.000000</td>\n",
       "      <td>21.000000</td>\n",
       "      <td>5.543699e+09</td>\n",
       "      <td>5.634072e+09</td>\n",
       "      <td>8.500000</td>\n",
       "      <td>2022.000000</td>\n",
       "      <td>NaN</td>\n",
       "      <td>8.000000</td>\n",
       "      <td>8.000000</td>\n",
       "      <td>NaN</td>\n",
       "      <td>NaN</td>\n",
       "    </tr>\n",
       "    <tr>\n",
       "      <th>75%</th>\n",
       "      <td>416004.000000</td>\n",
       "      <td>23.000000</td>\n",
       "      <td>7.796677e+09</td>\n",
       "      <td>7.794617e+09</td>\n",
       "      <td>9.232500</td>\n",
       "      <td>2023.000000</td>\n",
       "      <td>NaN</td>\n",
       "      <td>9.000000</td>\n",
       "      <td>9.000000</td>\n",
       "      <td>NaN</td>\n",
       "      <td>NaN</td>\n",
       "    </tr>\n",
       "    <tr>\n",
       "      <th>max</th>\n",
       "      <td>416436.000000</td>\n",
       "      <td>24.000000</td>\n",
       "      <td>9.999767e+09</td>\n",
       "      <td>9.999852e+09</td>\n",
       "      <td>10.000000</td>\n",
       "      <td>2023.000000</td>\n",
       "      <td>NaN</td>\n",
       "      <td>10.000000</td>\n",
       "      <td>10.000000</td>\n",
       "      <td>NaN</td>\n",
       "      <td>NaN</td>\n",
       "    </tr>\n",
       "  </tbody>\n",
       "</table>\n",
       "</div>"
      ],
      "text/plain": [
       "            Zip Code           Age  Contact Number  Emergency Contact Number  \\\n",
       "count   10000.000000  10000.000000    1.000000e+04              1.000000e+04   \n",
       "mean   410087.514700     21.384700    5.521004e+09              5.569675e+09   \n",
       "std      6408.897346      1.489674    2.622215e+09              2.581596e+09   \n",
       "min    400012.000000     19.000000    6.402026e+06              1.001359e+09   \n",
       "25%    400701.000000     20.000000    3.191651e+09              3.353914e+09   \n",
       "50%    413001.000000     21.000000    5.543699e+09              5.634072e+09   \n",
       "75%    416004.000000     23.000000    7.796677e+09              7.794617e+09   \n",
       "max    416436.000000     24.000000    9.999767e+09              9.999852e+09   \n",
       "\n",
       "       CGPA/ percentage  Expected Graduation-year  \\\n",
       "count      10000.000000              10000.000000   \n",
       "mean           8.500260               2021.509300   \n",
       "std            0.860161                  1.116888   \n",
       "min            7.000000               2020.000000   \n",
       "25%            7.750000               2021.000000   \n",
       "50%            8.500000               2022.000000   \n",
       "75%            9.232500               2023.000000   \n",
       "max           10.000000               2023.000000   \n",
       "\n",
       "       Certifications/Achievement/ Research papers  \\\n",
       "count                                          0.0   \n",
       "mean                                           NaN   \n",
       "std                                            NaN   \n",
       "min                                            NaN   \n",
       "25%                                            NaN   \n",
       "50%                                            NaN   \n",
       "75%                                            NaN   \n",
       "max                                            NaN   \n",
       "\n",
       "       Rate your written communication skills [1-10]  \\\n",
       "count                                   10000.000000   \n",
       "mean                                        7.988400   \n",
       "std                                         1.413529   \n",
       "min                                         6.000000   \n",
       "25%                                         7.000000   \n",
       "50%                                         8.000000   \n",
       "75%                                         9.000000   \n",
       "max                                        10.000000   \n",
       "\n",
       "       Rate your verbal communication skills [1-10]  \\\n",
       "count                                  10000.000000   \n",
       "mean                                       7.995500   \n",
       "std                                        1.419113   \n",
       "min                                        6.000000   \n",
       "25%                                        7.000000   \n",
       "50%                                        8.000000   \n",
       "75%                                        9.000000   \n",
       "max                                       10.000000   \n",
       "\n",
       "       Link to updated Resume (Google/ One Drive link preferred)  \\\n",
       "count                                                0.0           \n",
       "mean                                                 NaN           \n",
       "std                                                  NaN           \n",
       "min                                                  NaN           \n",
       "25%                                                  NaN           \n",
       "50%                                                  NaN           \n",
       "75%                                                  NaN           \n",
       "max                                                  NaN           \n",
       "\n",
       "       link to Linkedin profile  \n",
       "count                       0.0  \n",
       "mean                        NaN  \n",
       "std                         NaN  \n",
       "min                         NaN  \n",
       "25%                         NaN  \n",
       "50%                         NaN  \n",
       "75%                         NaN  \n",
       "max                         NaN  "
      ]
     },
     "execution_count": 3,
     "metadata": {},
     "output_type": "execute_result"
    }
   ],
   "source": [
    "dataset.describe()"
   ]
  },
  {
   "cell_type": "code",
   "execution_count": 4,
   "metadata": {
    "colab": {
     "base_uri": "https://localhost:8080/",
     "height": 34
    },
    "colab_type": "code",
    "id": "rT6xbH2XomCx",
    "outputId": "080a19ae-e493-45e1-8629-d10f9ec6d202"
   },
   "outputs": [
    {
     "data": {
      "text/plain": [
       "(10000, 32)"
      ]
     },
     "execution_count": 4,
     "metadata": {},
     "output_type": "execute_result"
    }
   ],
   "source": [
    "dataset.shape"
   ]
  },
  {
   "cell_type": "code",
   "execution_count": 5,
   "metadata": {
    "colab": {
     "base_uri": "https://localhost:8080/",
     "height": 578
    },
    "colab_type": "code",
    "id": "zZgZ8YNuor32",
    "outputId": "3ee57713-73dd-4c32-bf58-e7c3933f1255"
   },
   "outputs": [
    {
     "data": {
      "text/plain": [
       "First Name                                                   False\n",
       "Last Name                                                    False\n",
       "City                                                         False\n",
       "State                                                        False\n",
       "Zip Code                                                     False\n",
       "DOB [DD/MM/YYYY]                                             False\n",
       "Age                                                          False\n",
       "Gender                                                       False\n",
       "Email Address                                                False\n",
       "Contact Number                                               False\n",
       "Emergency Contact Number                                     False\n",
       "College name                                                 False\n",
       "University Name                                              False\n",
       "Degree                                                       False\n",
       "Major/Area of Study                                          False\n",
       "Course Type                                                  False\n",
       "Which-year are you studying in?                              False\n",
       "CGPA/ percentage                                             False\n",
       "Expected Graduation-year                                     False\n",
       "Areas of interest                                            False\n",
       "Current Employment Status                                    False\n",
       "Have you worked core Java                                    False\n",
       "Programming Language Known other than Java (one major)       False\n",
       "Have you worked on MySQL or Oracle database                  False\n",
       "Have you studied OOP Concepts                                False\n",
       "Certifications/Achievement/ Research papers                   True\n",
       "Rate your written communication skills [1-10]                False\n",
       "Rate your verbal communication skills [1-10]                 False\n",
       "Link to updated Resume (Google/ One Drive link preferred)     True\n",
       "link to Linkedin profile                                      True\n",
       "How Did You Hear About This Internship?                      False\n",
       "Label                                                        False\n",
       "dtype: bool"
      ]
     },
     "execution_count": 5,
     "metadata": {},
     "output_type": "execute_result"
    }
   ],
   "source": [
    "dataset.isnull().any()"
   ]
  },
  {
   "cell_type": "code",
   "execution_count": 6,
   "metadata": {
    "colab": {
     "base_uri": "https://localhost:8080/",
     "height": 578
    },
    "colab_type": "code",
    "id": "cOqX9XFVpWR2",
    "outputId": "a6733428-7d06-499e-ec6a-8432ea91e60c"
   },
   "outputs": [
    {
     "data": {
      "text/plain": [
       "First Name                                                       0\n",
       "Last Name                                                        0\n",
       "City                                                             0\n",
       "State                                                            0\n",
       "Zip Code                                                         0\n",
       "DOB [DD/MM/YYYY]                                                 0\n",
       "Age                                                              0\n",
       "Gender                                                           0\n",
       "Email Address                                                    0\n",
       "Contact Number                                                   0\n",
       "Emergency Contact Number                                         0\n",
       "College name                                                     0\n",
       "University Name                                                  0\n",
       "Degree                                                           0\n",
       "Major/Area of Study                                              0\n",
       "Course Type                                                      0\n",
       "Which-year are you studying in?                                  0\n",
       "CGPA/ percentage                                                 0\n",
       "Expected Graduation-year                                         0\n",
       "Areas of interest                                                0\n",
       "Current Employment Status                                        0\n",
       "Have you worked core Java                                        0\n",
       "Programming Language Known other than Java (one major)           0\n",
       "Have you worked on MySQL or Oracle database                      0\n",
       "Have you studied OOP Concepts                                    0\n",
       "Certifications/Achievement/ Research papers                  10000\n",
       "Rate your written communication skills [1-10]                    0\n",
       "Rate your verbal communication skills [1-10]                     0\n",
       "Link to updated Resume (Google/ One Drive link preferred)    10000\n",
       "link to Linkedin profile                                     10000\n",
       "How Did You Hear About This Internship?                          0\n",
       "Label                                                            0\n",
       "dtype: int64"
      ]
     },
     "execution_count": 6,
     "metadata": {},
     "output_type": "execute_result"
    }
   ],
   "source": [
    "dataset.isna().sum()"
   ]
  },
  {
   "cell_type": "code",
   "execution_count": 7,
   "metadata": {
    "colab": {
     "base_uri": "https://localhost:8080/",
     "height": 34
    },
    "colab_type": "code",
    "id": "T7Aa4SAwp1Ce",
    "outputId": "7ca9037d-2611-4e25-8d5b-2a056507ceb6"
   },
   "outputs": [
    {
     "data": {
      "text/plain": [
       "(10000, 29)"
      ]
     },
     "execution_count": 7,
     "metadata": {},
     "output_type": "execute_result"
    }
   ],
   "source": [
    "dataset = dataset.drop(['Certifications/Achievement/ Research papers','Link to updated Resume (Google/ One Drive link preferred)','link to Linkedin profile'], axis = 1)\n",
    "dataset.shape"
   ]
  },
  {
   "cell_type": "code",
   "execution_count": 8,
   "metadata": {
    "colab": {
     "base_uri": "https://localhost:8080/",
     "height": 34
    },
    "colab_type": "code",
    "id": "0pcivYNtqKDL",
    "outputId": "74855c2b-11cc-4692-c0aa-6240364ac9be"
   },
   "outputs": [
    {
     "data": {
      "text/plain": [
       "array([1, 0, 1, ..., 0, 1, 1])"
      ]
     },
     "execution_count": 8,
     "metadata": {},
     "output_type": "execute_result"
    }
   ],
   "source": [
    "from sklearn.preprocessing import LabelEncoder\n",
    "lb = LabelEncoder()\n",
    "y = lb.fit_transform(dataset['Label'])\n",
    "y"
   ]
  },
  {
   "cell_type": "code",
   "execution_count": 9,
   "metadata": {
    "colab": {
     "base_uri": "https://localhost:8080/",
     "height": 411
    },
    "colab_type": "code",
    "id": "6P_udRsurD3h",
    "outputId": "f461bf70-3f87-4661-e4ed-a6afd95606d6"
   },
   "outputs": [
    {
     "data": {
      "text/plain": [
       "(array([ 0,  1,  2,  3,  4,  5,  6,  7,  8,  9, 10, 11, 12, 13, 14, 15]),\n",
       " [Text(0, 0, 'Artificial Intelligence '),\n",
       "  Text(1, 0, 'Cloud Computing '),\n",
       "  Text(2, 0, 'IoT '),\n",
       "  Text(3, 0, 'Digital Marketing '),\n",
       "  Text(4, 0, 'Python '),\n",
       "  Text(5, 0, 'QMS/Testing '),\n",
       "  Text(6, 0, 'Data Science '),\n",
       "  Text(7, 0, 'Machine Learning'),\n",
       "  Text(8, 0, 'Blockchain '),\n",
       "  Text(9, 0, 'RPA '),\n",
       "  Text(10, 0, 'DevOps '),\n",
       "  Text(11, 0, 'Big Data '),\n",
       "  Text(12, 0, 'Web Development '),\n",
       "  Text(13, 0, 'Cyber Security '),\n",
       "  Text(14, 0, 'Mobility'),\n",
       "  Text(15, 0, 'Information Security')])"
      ]
     },
     "execution_count": 9,
     "metadata": {},
     "output_type": "execute_result"
    },
    {
     "data": {
      "image/png": "[encoded data removed]",
      "text/plain": [
       "<Figure size 432x288 with 1 Axes>"
      ]
     },
     "metadata": {},
     "output_type": "display_data"
    }
   ],
   "source": [
    "sns.set_style('whitegrid')\n",
    "sns.countplot(x = \"Areas of interest\", data = dataset)\n",
    "plt.xticks(rotation=90)"
   ]
  },
  {
   "cell_type": "code",
   "execution_count": 10,
   "metadata": {
    "colab": {
     "base_uri": "https://localhost:8080/",
     "height": 102
    },
    "colab_type": "code",
    "id": "FfMbvqeF2C5p",
    "outputId": "c4dde21c-d19a-4212-b2f0-57687085ba2c"
   },
   "outputs": [
    {
     "data": {
      "text/plain": [
       "array(['Artificial Intelligence ', 'Cloud Computing ', 'IoT ',\n",
       "       'Digital Marketing ', 'Python ', 'QMS/Testing ', 'Data Science ',\n",
       "       'Machine Learning', 'Blockchain ', 'RPA ', 'DevOps ', 'Big Data ',\n",
       "       'Web Development ', 'Cyber Security ', 'Mobility',\n",
       "       'Information Security'], dtype=object)"
      ]
     },
     "execution_count": 10,
     "metadata": {},
     "output_type": "execute_result"
    }
   ],
   "source": [
    "dataset['Areas of interest'].unique()"
   ]
  },
  {
   "cell_type": "markdown",
   "metadata": {
    "colab_type": "text",
    "id": "GL31WUf-Irv_"
   },
   "source": [
    "## THE NUMBER OF STUDENTS APPLIED FOR DATA SCIENCE WHO KNEW PYTHON AND WHO DIDN'T"
   ]
  },
  {
   "cell_type": "code",
   "execution_count": 11,
   "metadata": {
    "colab": {
     "base_uri": "https://localhost:8080/",
     "height": 419
    },
    "colab_type": "code",
    "id": "kFY4JUNB6fqv",
    "outputId": "52ed6cf6-9d8b-4f2d-e778-1769ab407f0d"
   },
   "outputs": [
    {
     "data": {
      "text/html": [
       "<div>\n",
       "<style scoped>\n",
       "    .dataframe tbody tr th:only-of-type {\n",
       "        vertical-align: middle;\n",
       "    }\n",
       "\n",
       "    .dataframe tbody tr th {\n",
       "        vertical-align: top;\n",
       "    }\n",
       "\n",
       "    .dataframe thead th {\n",
       "        text-align: right;\n",
       "    }\n",
       "</style>\n",
       "<table border=\"1\" class=\"dataframe\">\n",
       "  <thead>\n",
       "    <tr style=\"text-align: right;\">\n",
       "      <th></th>\n",
       "      <th>index</th>\n",
       "      <th>Areas of interest</th>\n",
       "      <th>Knew Python</th>\n",
       "    </tr>\n",
       "  </thead>\n",
       "  <tbody>\n",
       "    <tr>\n",
       "      <th>0</th>\n",
       "      <td>7</td>\n",
       "      <td>Data Science</td>\n",
       "      <td>No</td>\n",
       "    </tr>\n",
       "    <tr>\n",
       "      <th>1</th>\n",
       "      <td>38</td>\n",
       "      <td>Data Science</td>\n",
       "      <td>No</td>\n",
       "    </tr>\n",
       "    <tr>\n",
       "      <th>2</th>\n",
       "      <td>42</td>\n",
       "      <td>Data Science</td>\n",
       "      <td>No</td>\n",
       "    </tr>\n",
       "    <tr>\n",
       "      <th>3</th>\n",
       "      <td>49</td>\n",
       "      <td>Data Science</td>\n",
       "      <td>No</td>\n",
       "    </tr>\n",
       "    <tr>\n",
       "      <th>4</th>\n",
       "      <td>57</td>\n",
       "      <td>Data Science</td>\n",
       "      <td>No</td>\n",
       "    </tr>\n",
       "    <tr>\n",
       "      <th>...</th>\n",
       "      <td>...</td>\n",
       "      <td>...</td>\n",
       "      <td>...</td>\n",
       "    </tr>\n",
       "    <tr>\n",
       "      <th>596</th>\n",
       "      <td>9921</td>\n",
       "      <td>Data Science</td>\n",
       "      <td>No</td>\n",
       "    </tr>\n",
       "    <tr>\n",
       "      <th>597</th>\n",
       "      <td>9975</td>\n",
       "      <td>Data Science</td>\n",
       "      <td>No</td>\n",
       "    </tr>\n",
       "    <tr>\n",
       "      <th>598</th>\n",
       "      <td>9977</td>\n",
       "      <td>Data Science</td>\n",
       "      <td>No</td>\n",
       "    </tr>\n",
       "    <tr>\n",
       "      <th>599</th>\n",
       "      <td>9986</td>\n",
       "      <td>Data Science</td>\n",
       "      <td>Yes</td>\n",
       "    </tr>\n",
       "    <tr>\n",
       "      <th>600</th>\n",
       "      <td>9988</td>\n",
       "      <td>Data Science</td>\n",
       "      <td>No</td>\n",
       "    </tr>\n",
       "  </tbody>\n",
       "</table>\n",
       "<p>601 rows × 3 columns</p>\n",
       "</div>"
      ],
      "text/plain": [
       "     index Areas of interest Knew Python\n",
       "0        7     Data Science           No\n",
       "1       38     Data Science           No\n",
       "2       42     Data Science           No\n",
       "3       49     Data Science           No\n",
       "4       57     Data Science           No\n",
       "..     ...               ...         ...\n",
       "596   9921     Data Science           No\n",
       "597   9975     Data Science           No\n",
       "598   9977     Data Science           No\n",
       "599   9986     Data Science          Yes\n",
       "600   9988     Data Science           No\n",
       "\n",
       "[601 rows x 3 columns]"
      ]
     },
     "execution_count": 11,
     "metadata": {},
     "output_type": "execute_result"
    }
   ],
   "source": [
    "df1 = dataset.filter(['Areas of interest','Programming Language Known other than Java (one major)'], axis=1)\n",
    "df1 = df1.loc[df1['Areas of interest']== 'Data Science ']\n",
    "df1.rename(columns = {'Programming Language Known other than Java (one major)':'Knew Python'}, inplace = True)\n",
    "df1['Knew Python'] = np.where(df1['Knew Python'] == 'Python', 'Yes','No')\n",
    "df1.reset_index()"
   ]
  },
  {
   "cell_type": "code",
   "execution_count": 12,
   "metadata": {
    "colab": {
     "base_uri": "https://localhost:8080/",
     "height": 102
    },
    "colab_type": "code",
    "id": "AbjSknChEVww",
    "outputId": "646201f3-b067-4ddb-847a-5af982bb4482"
   },
   "outputs": [
    {
     "name": "stdout",
     "output_type": "stream",
     "text": [
      "Students who applied for Data Science :  601\n",
      "counts of students who knew python or didn't :\n"
     ]
    },
    {
     "data": {
      "text/plain": [
       "No     535\n",
       "Yes     66\n",
       "Name: Knew Python, dtype: int64"
      ]
     },
     "execution_count": 12,
     "metadata": {},
     "output_type": "execute_result"
    }
   ],
   "source": [
    "print(\"Students who applied for Data Science : \",df1.shape[0])\n",
    "print(\"counts of students who knew python or didn't :\")\n",
    "df1['Knew Python'].value_counts()"
   ]
  },
  {
   "cell_type": "code",
   "execution_count": 13,
   "metadata": {
    "colab": {
     "base_uri": "https://localhost:8080/",
     "height": 312
    },
    "colab_type": "code",
    "id": "JYDM9Z94EGJA",
    "outputId": "a75d43d9-5fa3-442c-e072-fccfb06b5d69"
   },
   "outputs": [
    {
     "data": {
      "text/plain": [
       "Text(0.5, 1.0, \"Number of students applied for Data Science who knew Python and who didn't know\")"
      ]
     },
     "execution_count": 13,
     "metadata": {},
     "output_type": "execute_result"
    },
    {
     "data": {
      "image/png": "[encoded data removed]",
      "text/plain": [
       "<Figure size 432x288 with 1 Axes>"
      ]
     },
     "metadata": {},
     "output_type": "display_data"
    }
   ],
   "source": [
    "sns.set_style('whitegrid')\n",
    "sns.countplot(x='Knew Python',data=df1, edgecolor=sns.color_palette(\"dark\", 3))\n",
    "plt.title(\"Number of students applied for Data Science who knew Python and who didn't know\")"
   ]
  },
  {
   "cell_type": "markdown",
   "metadata": {
    "colab_type": "text",
    "id": "VSZBXQdwKuP_"
   },
   "source": [
    "## THE DIFFERENT WAYS STUDENTS LEARNED ABOUT THIS PROGRAM"
   ]
  },
  {
   "cell_type": "code",
   "execution_count": 14,
   "metadata": {
    "colab": {
     "base_uri": "https://localhost:8080/",
     "height": 204
    },
    "colab_type": "code",
    "id": "G2TDLXnHJVMg",
    "outputId": "8488ceb9-99db-472c-d2f4-166967ac7599"
   },
   "outputs": [
    {
     "data": {
      "text/html": [
       "<div>\n",
       "<style scoped>\n",
       "    .dataframe tbody tr th:only-of-type {\n",
       "        vertical-align: middle;\n",
       "    }\n",
       "\n",
       "    .dataframe tbody tr th {\n",
       "        vertical-align: top;\n",
       "    }\n",
       "\n",
       "    .dataframe thead th {\n",
       "        text-align: right;\n",
       "    }\n",
       "</style>\n",
       "<table border=\"1\" class=\"dataframe\">\n",
       "  <thead>\n",
       "    <tr style=\"text-align: right;\">\n",
       "      <th></th>\n",
       "      <th>How Did You Hear About This Internship?</th>\n",
       "    </tr>\n",
       "  </thead>\n",
       "  <tbody>\n",
       "    <tr>\n",
       "      <th>0</th>\n",
       "      <td>Twitter</td>\n",
       "    </tr>\n",
       "    <tr>\n",
       "      <th>1</th>\n",
       "      <td>Ex/Current Employee</td>\n",
       "    </tr>\n",
       "    <tr>\n",
       "      <th>2</th>\n",
       "      <td>Twitter</td>\n",
       "    </tr>\n",
       "    <tr>\n",
       "      <th>3</th>\n",
       "      <td>Twitter</td>\n",
       "    </tr>\n",
       "    <tr>\n",
       "      <th>4</th>\n",
       "      <td>Facebook</td>\n",
       "    </tr>\n",
       "  </tbody>\n",
       "</table>\n",
       "</div>"
      ],
      "text/plain": [
       "  How Did You Hear About This Internship?\n",
       "0                                 Twitter\n",
       "1                     Ex/Current Employee\n",
       "2                                 Twitter\n",
       "3                                 Twitter\n",
       "4                                Facebook"
      ]
     },
     "execution_count": 14,
     "metadata": {},
     "output_type": "execute_result"
    }
   ],
   "source": [
    "df2 = dataset.filter(['How Did You Hear About This Internship?'],axis=1)\n",
    "df2.head()"
   ]
  },
  {
   "cell_type": "code",
   "execution_count": 15,
   "metadata": {
    "colab": {
     "base_uri": "https://localhost:8080/",
     "height": 187
    },
    "colab_type": "code",
    "id": "csDH34Q2J4y9",
    "outputId": "28a19e76-2804-4a75-e778-49c0e9291e06"
   },
   "outputs": [
    {
     "data": {
      "text/plain": [
       "Intern                 1173\n",
       "Newspaper              1162\n",
       "Twitter                1160\n",
       "Blog post              1116\n",
       "LinkedIn               1112\n",
       "Friend                 1109\n",
       "Facebook               1084\n",
       "Other                  1077\n",
       "Ex/Current Employee    1007\n",
       "Name: How Did You Hear About This Internship?, dtype: int64"
      ]
     },
     "execution_count": 15,
     "metadata": {},
     "output_type": "execute_result"
    }
   ],
   "source": [
    "df2['How Did You Hear About This Internship?'].value_counts()"
   ]
  },
  {
   "cell_type": "code",
   "execution_count": 16,
   "metadata": {
    "colab": {
     "base_uri": "https://localhost:8080/",
     "height": 408
    },
    "colab_type": "code",
    "id": "viT6eOnyJrzf",
    "outputId": "de1f3a89-6330-4579-9f1f-1b58918ada43"
   },
   "outputs": [
    {
     "data": {
      "text/plain": [
       "Text(0.5, 1.0, 'The different ways students learned about this program')"
      ]
     },
     "execution_count": 16,
     "metadata": {},
     "output_type": "execute_result"
    },
    {
     "data": {
      "image/png": "[encoded data removed]",
      "text/plain": [
       "<Figure size 432x288 with 1 Axes>"
      ]
     },
     "metadata": {},
     "output_type": "display_data"
    }
   ],
   "source": [
    "sns.set_style('darkgrid')\n",
    "sns.countplot(x='How Did You Hear About This Internship?',data = dataset)\n",
    "plt.xticks(rotation=90)\n",
    "plt.title(label='The different ways students learned about this program')"
   ]
  },
  {
   "cell_type": "markdown",
   "metadata": {
    "colab_type": "text",
    "id": "Hu0xWKcoPZ9N"
   },
   "source": [
    "## STUDENTS WHO ARE IN THE FOURTH YEAR AND HAVE A CGPA GREATER THAN 8.0"
   ]
  },
  {
   "cell_type": "code",
   "execution_count": 17,
   "metadata": {
    "colab": {
     "base_uri": "https://localhost:8080/",
     "height": 419
    },
    "colab_type": "code",
    "id": "66BuKSI4LtRK",
    "outputId": "cd3835b0-e279-4b13-e086-8bdddb3e2831"
   },
   "outputs": [
    {
     "data": {
      "text/html": [
       "<div>\n",
       "<style scoped>\n",
       "    .dataframe tbody tr th:only-of-type {\n",
       "        vertical-align: middle;\n",
       "    }\n",
       "\n",
       "    .dataframe tbody tr th {\n",
       "        vertical-align: top;\n",
       "    }\n",
       "\n",
       "    .dataframe thead th {\n",
       "        text-align: right;\n",
       "    }\n",
       "</style>\n",
       "<table border=\"1\" class=\"dataframe\">\n",
       "  <thead>\n",
       "    <tr style=\"text-align: right;\">\n",
       "      <th></th>\n",
       "      <th>index</th>\n",
       "      <th>Which-year are you studying in?</th>\n",
       "      <th>CGPA/ percentage</th>\n",
       "    </tr>\n",
       "  </thead>\n",
       "  <tbody>\n",
       "    <tr>\n",
       "      <th>0</th>\n",
       "      <td>1</td>\n",
       "      <td>Fourth-year</td>\n",
       "      <td>8.73</td>\n",
       "    </tr>\n",
       "    <tr>\n",
       "      <th>1</th>\n",
       "      <td>2</td>\n",
       "      <td>Fourth-year</td>\n",
       "      <td>8.61</td>\n",
       "    </tr>\n",
       "    <tr>\n",
       "      <th>2</th>\n",
       "      <td>5</td>\n",
       "      <td>Fourth-year</td>\n",
       "      <td>9.35</td>\n",
       "    </tr>\n",
       "    <tr>\n",
       "      <th>3</th>\n",
       "      <td>8</td>\n",
       "      <td>Fourth-year</td>\n",
       "      <td>9.91</td>\n",
       "    </tr>\n",
       "    <tr>\n",
       "      <th>4</th>\n",
       "      <td>12</td>\n",
       "      <td>Fourth-year</td>\n",
       "      <td>8.27</td>\n",
       "    </tr>\n",
       "    <tr>\n",
       "      <th>...</th>\n",
       "      <td>...</td>\n",
       "      <td>...</td>\n",
       "      <td>...</td>\n",
       "    </tr>\n",
       "    <tr>\n",
       "      <th>1699</th>\n",
       "      <td>9985</td>\n",
       "      <td>Fourth-year</td>\n",
       "      <td>9.14</td>\n",
       "    </tr>\n",
       "    <tr>\n",
       "      <th>1700</th>\n",
       "      <td>9987</td>\n",
       "      <td>Fourth-year</td>\n",
       "      <td>8.90</td>\n",
       "    </tr>\n",
       "    <tr>\n",
       "      <th>1701</th>\n",
       "      <td>9990</td>\n",
       "      <td>Fourth-year</td>\n",
       "      <td>8.63</td>\n",
       "    </tr>\n",
       "    <tr>\n",
       "      <th>1702</th>\n",
       "      <td>9992</td>\n",
       "      <td>Fourth-year</td>\n",
       "      <td>9.17</td>\n",
       "    </tr>\n",
       "    <tr>\n",
       "      <th>1703</th>\n",
       "      <td>9998</td>\n",
       "      <td>Fourth-year</td>\n",
       "      <td>9.22</td>\n",
       "    </tr>\n",
       "  </tbody>\n",
       "</table>\n",
       "<p>1704 rows × 3 columns</p>\n",
       "</div>"
      ],
      "text/plain": [
       "      index Which-year are you studying in?  CGPA/ percentage\n",
       "0         1                     Fourth-year              8.73\n",
       "1         2                     Fourth-year              8.61\n",
       "2         5                     Fourth-year              9.35\n",
       "3         8                     Fourth-year              9.91\n",
       "4        12                     Fourth-year              8.27\n",
       "...     ...                             ...               ...\n",
       "1699   9985                     Fourth-year              9.14\n",
       "1700   9987                     Fourth-year              8.90\n",
       "1701   9990                     Fourth-year              8.63\n",
       "1702   9992                     Fourth-year              9.17\n",
       "1703   9998                     Fourth-year              9.22\n",
       "\n",
       "[1704 rows x 3 columns]"
      ]
     },
     "execution_count": 17,
     "metadata": {},
     "output_type": "execute_result"
    }
   ],
   "source": [
    "df3 = dataset.filter(['Which-year are you studying in?','CGPA/ percentage'], axis=1)\n",
    "df3 = df3.loc[df3['Which-year are you studying in?']=='Fourth-year']\n",
    "df3 = df3.loc[df3['CGPA/ percentage']>=8.0]\n",
    "df3.reset_index()"
   ]
  },
  {
   "cell_type": "code",
   "execution_count": 18,
   "metadata": {
    "colab": {
     "base_uri": "https://localhost:8080/",
     "height": 34
    },
    "colab_type": "code",
    "id": "y0pnGZBUN22g",
    "outputId": "26e9252a-f18b-44d4-f15c-5f548c51a2de"
   },
   "outputs": [
    {
     "name": "stdout",
     "output_type": "stream",
     "text": [
      "Students who are in the fourth year and have a CGPA greater than 8.0 -  1704\n"
     ]
    }
   ],
   "source": [
    "print(\"Students who are in the fourth year and have a CGPA greater than 8.0 - \", df3.shape[0])"
   ]
  },
  {
   "cell_type": "markdown",
   "metadata": {
    "colab_type": "text",
    "id": "DXs9pYyISfSS"
   },
   "source": [
    "## STUDENTS WHO APPLIED FOR DIGITAL MARKETING WITH VERBAL AND WRITTEN COMMUNICATION SCORE GREATER THAN 8"
   ]
  },
  {
   "cell_type": "code",
   "execution_count": 19,
   "metadata": {
    "colab": {
     "base_uri": "https://localhost:8080/",
     "height": 419
    },
    "colab_type": "code",
    "id": "9StQh-sRQq4x",
    "outputId": "bd65582e-84a0-4a34-d47c-496ec0acfb3d"
   },
   "outputs": [
    {
     "data": {
      "text/html": [
       "<div>\n",
       "<style scoped>\n",
       "    .dataframe tbody tr th:only-of-type {\n",
       "        vertical-align: middle;\n",
       "    }\n",
       "\n",
       "    .dataframe tbody tr th {\n",
       "        vertical-align: top;\n",
       "    }\n",
       "\n",
       "    .dataframe thead th {\n",
       "        text-align: right;\n",
       "    }\n",
       "</style>\n",
       "<table border=\"1\" class=\"dataframe\">\n",
       "  <thead>\n",
       "    <tr style=\"text-align: right;\">\n",
       "      <th></th>\n",
       "      <th>index</th>\n",
       "      <th>Areas of interest</th>\n",
       "      <th>Written Score</th>\n",
       "      <th>Verbal Score</th>\n",
       "    </tr>\n",
       "  </thead>\n",
       "  <tbody>\n",
       "    <tr>\n",
       "      <th>0</th>\n",
       "      <td>81</td>\n",
       "      <td>Digital Marketing</td>\n",
       "      <td>8</td>\n",
       "      <td>9</td>\n",
       "    </tr>\n",
       "    <tr>\n",
       "      <th>1</th>\n",
       "      <td>127</td>\n",
       "      <td>Digital Marketing</td>\n",
       "      <td>10</td>\n",
       "      <td>8</td>\n",
       "    </tr>\n",
       "    <tr>\n",
       "      <th>2</th>\n",
       "      <td>294</td>\n",
       "      <td>Digital Marketing</td>\n",
       "      <td>9</td>\n",
       "      <td>10</td>\n",
       "    </tr>\n",
       "    <tr>\n",
       "      <th>3</th>\n",
       "      <td>340</td>\n",
       "      <td>Digital Marketing</td>\n",
       "      <td>9</td>\n",
       "      <td>8</td>\n",
       "    </tr>\n",
       "    <tr>\n",
       "      <th>4</th>\n",
       "      <td>420</td>\n",
       "      <td>Digital Marketing</td>\n",
       "      <td>9</td>\n",
       "      <td>10</td>\n",
       "    </tr>\n",
       "    <tr>\n",
       "      <th>...</th>\n",
       "      <td>...</td>\n",
       "      <td>...</td>\n",
       "      <td>...</td>\n",
       "      <td>...</td>\n",
       "    </tr>\n",
       "    <tr>\n",
       "      <th>215</th>\n",
       "      <td>9857</td>\n",
       "      <td>Digital Marketing</td>\n",
       "      <td>8</td>\n",
       "      <td>9</td>\n",
       "    </tr>\n",
       "    <tr>\n",
       "      <th>216</th>\n",
       "      <td>9883</td>\n",
       "      <td>Digital Marketing</td>\n",
       "      <td>8</td>\n",
       "      <td>9</td>\n",
       "    </tr>\n",
       "    <tr>\n",
       "      <th>217</th>\n",
       "      <td>9924</td>\n",
       "      <td>Digital Marketing</td>\n",
       "      <td>8</td>\n",
       "      <td>10</td>\n",
       "    </tr>\n",
       "    <tr>\n",
       "      <th>218</th>\n",
       "      <td>9947</td>\n",
       "      <td>Digital Marketing</td>\n",
       "      <td>10</td>\n",
       "      <td>8</td>\n",
       "    </tr>\n",
       "    <tr>\n",
       "      <th>219</th>\n",
       "      <td>9968</td>\n",
       "      <td>Digital Marketing</td>\n",
       "      <td>10</td>\n",
       "      <td>8</td>\n",
       "    </tr>\n",
       "  </tbody>\n",
       "</table>\n",
       "<p>220 rows × 4 columns</p>\n",
       "</div>"
      ],
      "text/plain": [
       "     index   Areas of interest  Written Score  Verbal Score\n",
       "0       81  Digital Marketing               8             9\n",
       "1      127  Digital Marketing              10             8\n",
       "2      294  Digital Marketing               9            10\n",
       "3      340  Digital Marketing               9             8\n",
       "4      420  Digital Marketing               9            10\n",
       "..     ...                 ...            ...           ...\n",
       "215   9857  Digital Marketing               8             9\n",
       "216   9883  Digital Marketing               8             9\n",
       "217   9924  Digital Marketing               8            10\n",
       "218   9947  Digital Marketing              10             8\n",
       "219   9968  Digital Marketing              10             8\n",
       "\n",
       "[220 rows x 4 columns]"
      ]
     },
     "execution_count": 19,
     "metadata": {},
     "output_type": "execute_result"
    }
   ],
   "source": [
    "df4 = dataset.filter(['Areas of interest','Rate your written communication skills [1-10]','Rate your verbal communication skills [1-10]'])\n",
    "df4 = df4.loc[df4['Areas of interest']=='Digital Marketing ']\n",
    "df4.rename(columns = {'Rate your verbal communication skills [1-10]':'Verbal Score'}, inplace = True)\n",
    "df4.rename(columns = {'Rate your written communication skills [1-10]':'Written Score'}, inplace = True)\n",
    "df4 = df4.loc[df4['Written Score']>=8.0]\n",
    "df4 = df4.loc[df4['Verbal Score']>=8.0]\n",
    "df4.reset_index()"
   ]
  },
  {
   "cell_type": "code",
   "execution_count": 20,
   "metadata": {
    "colab": {
     "base_uri": "https://localhost:8080/",
     "height": 34
    },
    "colab_type": "code",
    "id": "PVMmYHWNRQ1A",
    "outputId": "44e319e2-5cd8-4bbc-bae0-1ab651602a69"
   },
   "outputs": [
    {
     "name": "stdout",
     "output_type": "stream",
     "text": [
      "Students who applied for Digital Marketing with verbal and written communication score greater than 8 -  220\n"
     ]
    }
   ],
   "source": [
    "print(\"Students who applied for Digital Marketing with verbal and written communication score greater than 8 - \", df4.shape[0])"
   ]
  },
  {
   "cell_type": "markdown",
   "metadata": {
    "colab_type": "text",
    "id": "oCljN_mGZyfN"
   },
   "source": [
    "## YEAR-WISE AND AREA OF STUDY WISE CLASSIFICATION OF STUDENTS\n"
   ]
  },
  {
   "cell_type": "code",
   "execution_count": 21,
   "metadata": {
    "colab": {
     "base_uri": "https://localhost:8080/",
     "height": 204
    },
    "colab_type": "code",
    "id": "47rFANfTSDf7",
    "outputId": "639080ef-4b6b-471d-9079-fc17d7b3a273"
   },
   "outputs": [
    {
     "data": {
      "text/html": [
       "<div>\n",
       "<style scoped>\n",
       "    .dataframe tbody tr th:only-of-type {\n",
       "        vertical-align: middle;\n",
       "    }\n",
       "\n",
       "    .dataframe tbody tr th {\n",
       "        vertical-align: top;\n",
       "    }\n",
       "\n",
       "    .dataframe thead th {\n",
       "        text-align: right;\n",
       "    }\n",
       "</style>\n",
       "<table border=\"1\" class=\"dataframe\">\n",
       "  <thead>\n",
       "    <tr style=\"text-align: right;\">\n",
       "      <th></th>\n",
       "      <th>Study year</th>\n",
       "      <th>Area of Study</th>\n",
       "    </tr>\n",
       "  </thead>\n",
       "  <tbody>\n",
       "    <tr>\n",
       "      <th>0</th>\n",
       "      <td>Second-year</td>\n",
       "      <td>Electrical Engineering</td>\n",
       "    </tr>\n",
       "    <tr>\n",
       "      <th>1</th>\n",
       "      <td>Fourth-year</td>\n",
       "      <td>Electronics and Telecommunication</td>\n",
       "    </tr>\n",
       "    <tr>\n",
       "      <th>2</th>\n",
       "      <td>Fourth-year</td>\n",
       "      <td>Electrical Engineering</td>\n",
       "    </tr>\n",
       "    <tr>\n",
       "      <th>3</th>\n",
       "      <td>Second-year</td>\n",
       "      <td>Computer Engineering</td>\n",
       "    </tr>\n",
       "    <tr>\n",
       "      <th>4</th>\n",
       "      <td>First-year</td>\n",
       "      <td>Electrical Engineering</td>\n",
       "    </tr>\n",
       "  </tbody>\n",
       "</table>\n",
       "</div>"
      ],
      "text/plain": [
       "    Study year                      Area of Study\n",
       "0  Second-year             Electrical Engineering\n",
       "1  Fourth-year  Electronics and Telecommunication\n",
       "2  Fourth-year             Electrical Engineering\n",
       "3  Second-year               Computer Engineering\n",
       "4   First-year             Electrical Engineering"
      ]
     },
     "execution_count": 21,
     "metadata": {},
     "output_type": "execute_result"
    }
   ],
   "source": [
    "df5 = dataset.filter(['Which-year are you studying in?','Major/Area of Study'])\n",
    "df5.rename(columns = {'Which-year are you studying in?':'Study year'}, inplace = True)\n",
    "df5.rename(columns = {'Major/Area of Study':'Area of Study'}, inplace = True)\n",
    "df5.head()"
   ]
  },
  {
   "cell_type": "code",
   "execution_count": 22,
   "metadata": {
    "colab": {
     "base_uri": "https://localhost:8080/",
     "height": 365
    },
    "colab_type": "code",
    "id": "dIK0GXEnT3s3",
    "outputId": "20fda44f-9f39-4be1-f092-93c9f01eaa2e"
   },
   "outputs": [
    {
     "data": {
      "text/plain": [
       "Text(0.5, 1.0, 'Classification on basis of year and area of study')"
      ]
     },
     "execution_count": 22,
     "metadata": {},
     "output_type": "execute_result"
    },
    {
     "data": {
      "image/png": "[encoded data removed]",
      "text/plain": [
       "<Figure size 432x288 with 1 Axes>"
      ]
     },
     "metadata": {},
     "output_type": "display_data"
    }
   ],
   "source": [
    "sns.set_style('darkgrid')\n",
    "sns.countplot(x='Study year',hue = 'Area of Study',data = df5)\n",
    "plt.xticks(rotation=90)\n",
    "plt.title(label='Classification on basis of year and area of study')"
   ]
  },
  {
   "cell_type": "code",
   "execution_count": 23,
   "metadata": {
    "colab": {
     "base_uri": "https://localhost:8080/",
     "height": 204
    },
    "colab_type": "code",
    "id": "SMu-gc0LUPPx",
    "outputId": "feb4ed5e-ab49-411f-d2e7-f2f58dd3f1c9"
   },
   "outputs": [
    {
     "data": {
      "text/html": [
       "<div>\n",
       "<style scoped>\n",
       "    .dataframe tbody tr th:only-of-type {\n",
       "        vertical-align: middle;\n",
       "    }\n",
       "\n",
       "    .dataframe tbody tr th {\n",
       "        vertical-align: top;\n",
       "    }\n",
       "\n",
       "    .dataframe thead th {\n",
       "        text-align: right;\n",
       "    }\n",
       "</style>\n",
       "<table border=\"1\" class=\"dataframe\">\n",
       "  <thead>\n",
       "    <tr style=\"text-align: right;\">\n",
       "      <th></th>\n",
       "      <th>City</th>\n",
       "      <th>College name</th>\n",
       "    </tr>\n",
       "  </thead>\n",
       "  <tbody>\n",
       "    <tr>\n",
       "      <th>0</th>\n",
       "      <td>Kolhapur</td>\n",
       "      <td>DY Patil College of Engineering And Technology</td>\n",
       "    </tr>\n",
       "    <tr>\n",
       "      <th>1</th>\n",
       "      <td>Pune</td>\n",
       "      <td>Vishwakarma Institute of Information Technology</td>\n",
       "    </tr>\n",
       "    <tr>\n",
       "      <th>2</th>\n",
       "      <td>Mumbai</td>\n",
       "      <td>Vidyalankar Institute of Technology</td>\n",
       "    </tr>\n",
       "    <tr>\n",
       "      <th>3</th>\n",
       "      <td>Solapur</td>\n",
       "      <td>Brahmdevdada Mane Institute of Technology</td>\n",
       "    </tr>\n",
       "    <tr>\n",
       "      <th>4</th>\n",
       "      <td>Sangli</td>\n",
       "      <td>Rajarambapu Institute of Technology</td>\n",
       "    </tr>\n",
       "  </tbody>\n",
       "</table>\n",
       "</div>"
      ],
      "text/plain": [
       "       City                                     College name\n",
       "0  Kolhapur   DY Patil College of Engineering And Technology\n",
       "1      Pune  Vishwakarma Institute of Information Technology\n",
       "2    Mumbai              Vidyalankar Institute of Technology\n",
       "3   Solapur        Brahmdevdada Mane Institute of Technology\n",
       "4    Sangli              Rajarambapu Institute of Technology"
      ]
     },
     "execution_count": 23,
     "metadata": {},
     "output_type": "execute_result"
    }
   ],
   "source": [
    "df6 = dataset.filter(['City','College name'])\n",
    "df6.head()"
   ]
  },
  {
   "cell_type": "code",
   "execution_count": 24,
   "metadata": {
    "colab": {
     "base_uri": "https://localhost:8080/",
     "height": 365
    },
    "colab_type": "code",
    "id": "d-HADuW_agmB",
    "outputId": "0eb91649-5f1c-40f6-fd06-0f7a67048c26"
   },
   "outputs": [
    {
     "data": {
      "text/plain": [
       "Text(0.5, 1.0, 'Classification on basis of city')"
      ]
     },
     "execution_count": 24,
     "metadata": {},
     "output_type": "execute_result"
    },
    {
     "data": {
      "image/png": "[encoded data removed]",
      "text/plain": [
       "<Figure size 432x288 with 1 Axes>"
      ]
     },
     "metadata": {},
     "output_type": "display_data"
    }
   ],
   "source": [
    "sns.set_style('darkgrid')\n",
    "sns.countplot(x='City',data = df6)\n",
    "plt.xticks(rotation=90)\n",
    "plt.title(label='Classification on basis of city')"
   ]
  },
  {
   "cell_type": "code",
   "execution_count": 25,
   "metadata": {
    "colab": {
     "base_uri": "https://localhost:8080/",
     "height": 635
    },
    "colab_type": "code",
    "id": "2POwv-ABdIGj",
    "outputId": "7c973630-f25d-458b-fa37-5ee478e8026e"
   },
   "outputs": [
    {
     "data": {
      "text/plain": [
       "Text(0.5, 1.0, 'Classification on basis of college')"
      ]
     },
     "execution_count": 25,
     "metadata": {},
     "output_type": "execute_result"
    },
    {
     "data": {
      "image/png": "[encoded data removed]",
      "text/plain": [
       "<Figure size 432x288 with 1 Axes>"
      ]
     },
     "metadata": {},
     "output_type": "display_data"
    }
   ],
   "source": [
    "sns.set_style('darkgrid')\n",
    "sns.countplot(x='College name',data = df6)\n",
    "plt.xticks(rotation=90)\n",
    "plt.title(label='Classification on basis of college')"
   ]
  },
  {
   "cell_type": "code",
   "execution_count": 39,
   "metadata": {
    "colab": {
     "base_uri": "https://localhost:8080/",
     "height": 265
    },
    "colab_type": "code",
    "id": "Qg9ZTGZqayh9",
    "outputId": "a8c96d6b-2d60-4a0c-cd15-fd9d615cdaa8"
   },
   "outputs": [],
   "source": [
    "data1 = dataset['CGPA/ percentage']\n",
    "data2 = dataset['Label']\n",
    "data3 = dataset.filter(['CGPA/ percentage','Label'])"
   ]
  },
  {
   "cell_type": "code",
   "execution_count": 43,
   "metadata": {},
   "outputs": [
    {
     "data": {
      "image/png": "[encoded data removed]",
      "text/plain": [
       "<Figure size 1440x720 with 1 Axes>"
      ]
     },
     "metadata": {},
     "output_type": "display_data"
    }
   ],
   "source": [
    "plt.scatter(data1, data2)\n",
    "plt.show()\n"
   ]
  },
  {
   "cell_type": "code",
   "execution_count": 28,
   "metadata": {
    "colab": {
     "base_uri": "https://localhost:8080/",
     "height": 362
    },
    "colab_type": "code",
    "id": "br6zbm9-crIU",
    "outputId": "446b26cc-2dfc-4477-fda9-d33c084f6cdd"
   },
   "outputs": [
    {
     "data": {
      "image/png": "[encoded data removed]",
      "text/plain": [
       "<Figure size 432x288 with 1 Axes>"
      ]
     },
     "metadata": {
      "tags": []
     },
     "output_type": "display_data"
    }
   ],
   "source": [
    "data3 = dataset['Areas of interest']\n",
    "plt.scatter(data2,data3)\n",
    "plt.xticks(rotation=90)\n",
    "plt.show()\n"
   ]
  },
  {
   "cell_type": "code",
   "execution_count": 45,
   "metadata": {
    "colab": {
     "base_uri": "https://localhost:8080/",
     "height": 204
    },
    "colab_type": "code",
    "id": "LJbnnE3TdrCJ",
    "outputId": "bca128c5-dfae-4526-c364-0ca2c55f254f"
   },
   "outputs": [
    {
     "data": {
      "text/plain": [
       "(10000, 3)"
      ]
     },
     "execution_count": 45,
     "metadata": {},
     "output_type": "execute_result"
    }
   ],
   "source": [
    "data1 = dataset.filter(['Which-year are you studying in?','Major/Area of Study','Label'])\n",
    "data1.shape"
   ]
  },
  {
   "cell_type": "code",
   "execution_count": 46,
   "metadata": {
    "colab": {
     "base_uri": "https://localhost:8080/",
     "height": 394
    },
    "colab_type": "code",
    "id": "Pas9tVsHee8j",
    "outputId": "fab01a4e-5a71-455c-cb1f-8d436a6acd9e"
   },
   "outputs": [
    {
     "data": {
      "image/png": "[encoded data removed]",
      "text/plain": [
       "<Figure size 442.85x360 with 1 Axes>"
      ]
     },
     "metadata": {},
     "output_type": "display_data"
    }
   ],
   "source": [
    "sns.FacetGrid(data1,hue=\"Label\",size=5).map(plt.scatter,\"Which-year are you studying in?\",\"Major/Area of Study\").add_legend();\n",
    "plt.xticks(rotation=90)\n",
    "plt.show()"
   ]
  },
  {
   "cell_type": "code",
   "execution_count": null,
   "metadata": {
    "colab": {},
    "colab_type": "code",
    "id": "9jFkGFo0e3ei"
   },
   "outputs": [],
   "source": []
  }
 ],
 "metadata": {
  "accelerator": "GPU",
  "colab": {
   "collapsed_sections": [],
   "name": "Live_Project_DG.ipynb",
   "provenance": []
  },
  "kernelspec": {
   "display_name": "Python 3",
   "language": "python",
   "name": "python3"
  },
  "language_info": {
   "codemirror_mode": {
    "name": "ipython",
    "version": 3
   },
   "file_extension": ".py",
   "mimetype": "text/x-python",
   "name": "python",
   "nbconvert_exporter": "python",
   "pygments_lexer": "ipython3",
   "version": "3.7.0"
  }
 },
 "nbformat": 4,
 "nbformat_minor": 1
}
